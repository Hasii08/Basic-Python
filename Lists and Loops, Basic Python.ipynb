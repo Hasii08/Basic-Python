{
 "cells": [
  {
   "cell_type": "markdown",
   "metadata": {},
   "source": [
    "** `CREATING LISTS AND RETRIEVING ELEMENTS` **\n",
    "\n",
    "`To make a new list, we put several strings or numbers inside square brackets, separated by commas:`"
   ]
  },
  {
   "cell_type": "code",
   "execution_count": 1,
   "metadata": {
    "collapsed": true
   },
   "outputs": [],
   "source": [
    "apes = [\"Homo sapiens\", \"Pan troglodytes\", \"Gorilla gorilla\"]\n",
    "conserved_sites = [24, 56, 132]"
   ]
  },
  {
   "cell_type": "code",
   "execution_count": 1,
   "metadata": {},
   "outputs": [
    {
     "name": "stdout",
     "output_type": "stream",
     "text": [
      "0\n",
      "1\n",
      "2\n",
      "3\n",
      "4\n"
     ]
    }
   ],
   "source": [
    "for i in range(5):\n",
    "    print(i)"
   ]
  },
  {
   "cell_type": "markdown",
   "metadata": {},
   "source": [
    "`Each individual item in a list is called an element. To get a single element from the list, write the variable name followed by the index of the element you want in square brackets:`"
   ]
  },
  {
   "cell_type": "code",
   "execution_count": 2,
   "metadata": {},
   "outputs": [
    {
     "name": "stdout",
     "output_type": "stream",
     "text": [
      "Gorilla gorilla\n",
      "132\n"
     ]
    }
   ],
   "source": [
    "# Accessing an element using index\n",
    "apes = [\"Homo sapiens\", \"Pan troglodytes\", \"Gorilla gorilla\"]\n",
    "conserved_sites = [24, 56, 132]\n",
    "print(apes[2])\n",
    "first_site = conserved_sites[2]\n",
    "print(first_site)"
   ]
  },
  {
   "cell_type": "code",
   "execution_count": 5,
   "metadata": {},
   "outputs": [
    {
     "name": "stdout",
     "output_type": "stream",
     "text": [
      "1\n"
     ]
    }
   ],
   "source": [
    "# Accessing an index using value\n",
    "apes = [\"Homo sapiens\", \"Pan troglodytes\", \"Gorilla gorilla\"]\n",
    "chimp_index = apes.index(\"Pan troglodytes\")\n",
    "print(chimp_index)"
   ]
  },
  {
   "cell_type": "code",
   "execution_count": 4,
   "metadata": {},
   "outputs": [
    {
     "name": "stdout",
     "output_type": "stream",
     "text": [
      "Gorilla gorilla\n"
     ]
    }
   ],
   "source": [
    "# index in negative\n",
    "last_ape = apes[-1]\n",
    "print(last_ape)"
   ]
  },
  {
   "cell_type": "markdown",
   "metadata": {},
   "source": [
    "`Numbers are inclusive at the start and exclusive at the end.`\n",
    "\n",
    "** `WORKING WITH LIST ELEMENTS` **\n",
    "\n",
    "`To add another element onto the end of an existing list, we can use the append() method:`"
   ]
  },
  {
   "cell_type": "code",
   "execution_count": 11,
   "metadata": {},
   "outputs": [
    {
     "name": "stdout",
     "output_type": "stream",
     "text": [
      "['Homo sapiens', 'Pan troglodytes', 'Gorilla gorilla']\n",
      "['Homo sapiens', 'Pan troglodytes', 'Gorilla gorilla', 'Pan paniscus']\n"
     ]
    }
   ],
   "source": [
    "# append(value) function\n",
    "apes = [\"Homo sapiens\", \"Pan troglodytes\", \"Gorilla gorilla\"]\n",
    "print(apes)\n",
    "apes.append(\"Pan paniscus\")\n",
    "print(apes)"
   ]
  },
  {
   "cell_type": "markdown",
   "metadata": {},
   "source": [
    "`We can get the length of a list by using the len() function, just like we did for strings:`"
   ]
  },
  {
   "cell_type": "code",
   "execution_count": 12,
   "metadata": {},
   "outputs": [
    {
     "name": "stdout",
     "output_type": "stream",
     "text": [
      "There are 3 apes\n",
      "Now there are 4 apes\n"
     ]
    }
   ],
   "source": [
    "apes = [\"Homo sapiens\", \"Pan troglodytes\", \"Gorilla gorilla\"]\n",
    "print(\"There are \" + str(len(apes)) + \" apes\")\n",
    "apes.append(\"Pan paniscus\")\n",
    "print(\"Now there are \" + str(len(apes)) + \" apes\")"
   ]
  },
  {
   "cell_type": "markdown",
   "metadata": {},
   "source": [
    "`We can concatenate two lists just as we did with strings, by using the plus symbol:`"
   ]
  },
  {
   "cell_type": "code",
   "execution_count": 17,
   "metadata": {},
   "outputs": [
    {
     "name": "stdout",
     "output_type": "stream",
     "text": [
      "3 apes\n",
      "2 monkeys\n",
      "5 primates\n",
      "['Pan troglodytes', 'Gorilla gorilla', 'Papio ursinus', 'Macaca mulatta']\n"
     ]
    }
   ],
   "source": [
    "apes = [\"Homo sapiens\", \"Pan troglodytes\", \"Gorilla gorilla\"]\n",
    "monkeys = [\"Papio ursinus\", \"Macaca mulatta\"]\n",
    "primates = apes + monkeys\n",
    "\n",
    "print(str(len(apes)) + \" apes\")\n",
    "print(str(len(monkeys)) + \" monkeys\")\n",
    "print(str(len(primates)) + \" primates\")\n",
    "print(primates[1:5])"
   ]
  },
  {
   "cell_type": "markdown",
   "metadata": {},
   "source": [
    "** `Functions reverse(), sort()` **"
   ]
  },
  {
   "cell_type": "code",
   "execution_count": 20,
   "metadata": {},
   "outputs": [
    {
     "name": "stdout",
     "output_type": "stream",
     "text": [
      "['a', 'h', 'm', 'e', 'd']\n",
      "['d', 'e', 'm', 'h', 'a']\n"
     ]
    }
   ],
   "source": [
    "name = ['a', 'h', 'm', 'e', 'd']\n",
    "print(name)\n",
    "name.reverse()\n",
    "print(name)"
   ]
  },
  {
   "cell_type": "code",
   "execution_count": 21,
   "metadata": {},
   "outputs": [
    {
     "name": "stdout",
     "output_type": "stream",
     "text": [
      "at the start : ['kingdom', 'phylum', 'class', 'order', 'family']\n",
      "after reversing : ['family', 'order', 'class', 'phylum', 'kingdom']\n",
      "after sorting : ['class', 'family', 'kingdom', 'order', 'phylum']\n"
     ]
    }
   ],
   "source": [
    "ranks = [\"kingdom\",\"phylum\", \"class\", \"order\", \"family\"]\n",
    "print(\"at the start : \" + str(ranks))\n",
    "\n",
    "ranks.reverse()\n",
    "print(\"after reversing : \" + str(ranks))\n",
    "\n",
    "ranks.sort()\n",
    "print(\"after sorting : \" + str(ranks))"
   ]
  },
  {
   "cell_type": "code",
   "execution_count": 23,
   "metadata": {},
   "outputs": [
    {
     "name": "stdout",
     "output_type": "stream",
     "text": [
      "family\n"
     ]
    }
   ],
   "source": [
    "temp = ranks[1]\n",
    "temp."
   ]
  },
  {
   "cell_type": "markdown",
   "metadata": {},
   "source": [
    "** WRITING A LOOP **\n",
    "\n",
    "`Imagine we wanted to take our list of apes:`"
   ]
  },
  {
   "cell_type": "code",
   "execution_count": 33,
   "metadata": {},
   "outputs": [],
   "source": [
    "apes = [\"Homo sapiens\", \"Pan troglodytes\", \"Gorilla gorilla\"]"
   ]
  },
  {
   "cell_type": "markdown",
   "metadata": {},
   "source": [
    "`and print out each element on a separate line, like this:`\n",
    "\n",
    "\n",
    "    Homo sapiens is an ape\n",
    "    Pan troglodytes is an ape\n",
    "    Gorilla gorilla is an ape\n",
    "\n",
    "\n",
    "`One way to do it would be to just print each element separately:`"
   ]
  },
  {
   "cell_type": "code",
   "execution_count": 9,
   "metadata": {
    "scrolled": true
   },
   "outputs": [
    {
     "name": "stdout",
     "output_type": "stream",
     "text": [
      "Homo sapiens is an ape\n",
      "Pan troglodytes is an ape\n",
      "Gorilla gorilla is an ape\n"
     ]
    }
   ],
   "source": [
    "print(apes[0] + \" is an ape\")\n",
    "print(apes[1] + \" is an ape\")\n",
    "print(apes[2] + \" is an ape\")"
   ]
  },
  {
   "cell_type": "code",
   "execution_count": 32,
   "metadata": {},
   "outputs": [
    {
     "name": "stdout",
     "output_type": "stream",
     "text": [
      "Homo sapiens is an ape\n",
      "Pan troglodytes is an ape\n",
      "Gorilla gorilla is an ape\n"
     ]
    }
   ],
   "source": [
    "# Using loop\n",
    "for ape in apes:\n",
    "    print(ape + \" is an ape\")"
   ]
  },
  {
   "cell_type": "code",
   "execution_count": 11,
   "metadata": {},
   "outputs": [
    {
     "name": "stdout",
     "output_type": "stream",
     "text": [
      "Homo sapiens is an ape. Its name starts with H\n",
      "Its name has 12 letters\n",
      "Pan troglodytes is an ape. Its name starts with P\n",
      "Its name has 15 letters\n",
      "Gorilla gorilla is an ape. Its name starts with G\n",
      "Its name has 15 letters\n"
     ]
    }
   ],
   "source": [
    "apes = [\"Homo sapiens\", \"Pan troglodytes\", \"Gorilla gorilla\"]    \n",
    "\n",
    "for ape in apes:\n",
    "    name_length = len(ape)\n",
    "    first_letter = ape[0]\n",
    "    print(ape + \" is an ape. Its name starts with \" + first_letter)\n",
    "    print(\"Its name has \" + str(name_length) + \" letters\")"
   ]
  },
  {
   "cell_type": "markdown",
   "metadata": {},
   "source": [
    "** Indentation Errors **"
   ]
  },
  {
   "cell_type": "code",
   "execution_count": 34,
   "metadata": {},
   "outputs": [
    {
     "ename": "IndentationError",
     "evalue": "unindent does not match any outer indentation level (<ipython-input-34-efe634c64fa7>, line 5)",
     "output_type": "error",
     "traceback": [
      "\u001b[1;36m  File \u001b[1;32m\"<ipython-input-34-efe634c64fa7>\"\u001b[1;36m, line \u001b[1;32m5\u001b[0m\n\u001b[1;33m    first_letter = ape[0]\u001b[0m\n\u001b[1;37m                         ^\u001b[0m\n\u001b[1;31mIndentationError\u001b[0m\u001b[1;31m:\u001b[0m unindent does not match any outer indentation level\n"
     ]
    }
   ],
   "source": [
    "apes = [\"Homo sapiens\", \"Pan troglodytes\", \"Gorilla gorilla\"]\n",
    "\n",
    "for ape in apes:\n",
    "    name_length = len(ape)\n",
    "  first_letter = ape[0]\n",
    "    print(ape + \" is an ape. Its name starts with \" + first_letter)\n",
    "    print(\"Its name has \" + str(name_length) + \" letters\")"
   ]
  },
  {
   "cell_type": "markdown",
   "metadata": {},
   "source": [
    "** USING A STRING AS A LIST **"
   ]
  },
  {
   "cell_type": "code",
   "execution_count": 13,
   "metadata": {},
   "outputs": [
    {
     "name": "stdout",
     "output_type": "stream",
     "text": [
      "one character is p\n",
      "one character is y\n",
      "one character is t\n",
      "one character is h\n",
      "one character is o\n",
      "one character is n\n"
     ]
    }
   ],
   "source": [
    "name = \"python\"\n",
    "for character in name:\n",
    "    print(\"one character is \" + character)"
   ]
  },
  {
   "cell_type": "markdown",
   "metadata": {},
   "source": [
    "** SPLITTING A STRING TO MAKE A LIST **"
   ]
  },
  {
   "cell_type": "code",
   "execution_count": 36,
   "metadata": {},
   "outputs": [
    {
     "name": "stdout",
     "output_type": "stream",
     "text": [
      "['melanogaster', 'simulans', 'yakuba', 'ananassae']\n"
     ]
    }
   ],
   "source": [
    "names = \"melanogaster,simulans,yakuba,ananassae\"\n",
    "species = names.split(\",\")\n",
    "print(str(species))"
   ]
  },
  {
   "cell_type": "markdown",
   "metadata": {},
   "source": [
    "** ITERATING OVER LINES IN A FILE **"
   ]
  },
  {
   "cell_type": "code",
   "execution_count": 40,
   "metadata": {},
   "outputs": [
    {
     "name": "stdout",
     "output_type": "stream",
     "text": [
      "The length of line is C\n",
      "The length of line is C\n",
      "The length of line is C\n",
      "The length of line is C\n",
      "The length of line is C\n",
      "The length of line is C\n",
      "The length of line is C\n",
      "The length of line is C\n"
     ]
    }
   ],
   "source": [
    "file = open(\"genomic_dna.txt\")\n",
    "\n",
    "# print the length of each line\n",
    "for line in file:\n",
    "    print(\"The length of line is \" + line[2])\n",
    "\n",
    "# print the first character of each line\n",
    "for line in file:\n",
    "    print(\"Hello World\")\n",
    "    print(\"The first character is \" + line[2])"
   ]
  },
  {
   "cell_type": "code",
   "execution_count": 41,
   "metadata": {},
   "outputs": [
    {
     "name": "stdout",
     "output_type": "stream",
     "text": [
      "The length is 38\n",
      "The length is 38\n",
      "The length is 38\n",
      "The length is 38\n",
      "The length is 38\n",
      "The length is 38\n",
      "The length is 38\n",
      "The length is 37\n",
      "The first character is C\n",
      "The first character is C\n",
      "The first character is C\n",
      "The first character is C\n",
      "The first character is C\n",
      "The first character is C\n",
      "The first character is C\n",
      "The first character is C\n"
     ]
    }
   ],
   "source": [
    "# After Closing\n",
    "# print the length of each line\n",
    "file = open(\"genomic_dna.txt\")\n",
    "for line in file:\n",
    "    print(\"The length is \" + str(len(line)))\n",
    "file.close()\n",
    "\n",
    "# print the first character of each line\n",
    "file = open(\"genomic_dna.txt\")\n",
    "for line in file:\n",
    "    print(\"The first character is \" + line[2])\n",
    "file.close()"
   ]
  },
  {
   "cell_type": "code",
   "execution_count": 42,
   "metadata": {},
   "outputs": [
    {
     "name": "stdout",
     "output_type": "stream",
     "text": [
      "The length is 38\n",
      "The length is 38\n",
      "The length is 38\n",
      "The length is 38\n",
      "The length is 38\n",
      "The length is 38\n",
      "The length is 38\n",
      "The length is 37\n",
      "The first character is C\n",
      "The first character is C\n",
      "The first character is C\n",
      "The first character is C\n",
      "The first character is C\n",
      "The first character is C\n",
      "The first character is C\n",
      "The first character is C\n"
     ]
    }
   ],
   "source": [
    "# using lines\n",
    "# first store a list of lines in the file\n",
    "file = open(\"genomic_dna.txt\")\n",
    "all_lines = file.readlines()\n",
    "\n",
    "# print the lengths\n",
    "for line in all_lines:\n",
    "    print(\"The length is \" + str(len(line)))\n",
    "\n",
    "# print the first characters\n",
    "for line in all_lines:\n",
    "    print(\"The first character is \" + line[2])\n",
    "    \n",
    "file.close()"
   ]
  },
  {
   "cell_type": "code",
   "execution_count": null,
   "metadata": {
    "collapsed": true
   },
   "outputs": [],
   "source": []
  },
  {
   "cell_type": "code",
   "execution_count": null,
   "metadata": {
    "collapsed": true
   },
   "outputs": [],
   "source": []
  },
  {
   "cell_type": "code",
   "execution_count": 44,
   "metadata": {},
   "outputs": [
    {
     "name": "stdout",
     "output_type": "stream",
     "text": [
      "['a', 'o', 'b', 'u', 's']\n",
      "['o', 'x', 'i', 'b', 'y']\n",
      "['b', 'b', 'l', 'i', 'p']\n",
      "['u', 't', 'l', 'l', 'v']\n",
      "['r', 't', 'y', 'l', 'n']\n",
      "\n",
      "\n",
      "\n",
      "\n",
      "Matched aobu at ( 0 , 0 ) row-wise\n",
      "Matched aobu at ( 0 , 0 ) col-wise\n"
     ]
    }
   ],
   "source": [
    "#mostly copyright wont work in Pakistan, India, etc but always add it\n",
    "'''\n",
    "Copyright: This program is written by Muhammad Suleman, Saif Hassan, Safiyah Batool and Kanwal Iqbal for lab 2 of CP Class\n",
    "You have the right to use this code for demonstration, learning or even writing professional programs but mention developers name as written above\n",
    "'''\n",
    "\n",
    "#table = [['a', 'o', 'i', 'u', 's'], ['t', 'x', 'y', 'b', 'y'], ['x', 'b', 'i', 'i', 'p'], ['c', 't', 'g', 'l', 'v'], ['r', 't', 'x', 'l', 'n']]\n",
    "#table = [['a', 'o', 'b', 'u', 's'], ['t', 'x', 'i', 'b', 'y'], ['x', 'b', 'l', 'i', 'p'], ['c', 't', 'l', 'l', 'v'], ['r', 't', 'y', 'l', 'n']]\n",
    "table = [['a', 'o', 'b', 'u', 's'], ['o', 'x', 'i', 'b', 'y'], ['b', 'b', 'l', 'i', 'p'], ['u', 't', 'l', 'l', 'v'], ['r', 't', 'y', 'l', 'n']]\n",
    "\n",
    "cols = 5\n",
    "rows = 5\n",
    "\n",
    "for row in range(0,rows):\n",
    "    print (table[row])\n",
    "print(\"\\n\\n\\n\")\n",
    "\n",
    "#my_name = \"bill\"\n",
    "#my_name = \"billy\"\n",
    "#my_name = \"rtyl\"\n",
    "my_name = \"aobu\"\n",
    "\n",
    "for row in range(0,rows):\n",
    "    for col in range(0,cols):\n",
    "        # if you want to know how cell are processed than open below line\n",
    "        #print(row, col, table[row][col])\n",
    "        #first check row\n",
    "        cur_row = row\n",
    "        match = True\n",
    "        if len(my_name) <= (rows - cur_row):\n",
    "            for char_no in range(0,len(my_name)):\n",
    "                if my_name[char_no] != table[cur_row][col]:\n",
    "                    match = False\n",
    "                    char_no = len(my_name)\n",
    "                cur_row = cur_row + 1\n",
    "            if match == True:\n",
    "                print (\"Matched\", my_name, \"at (\", row, \",\" , col, \")\" , \"row-wise\" )\n",
    "\n",
    "        #now check col\n",
    "        cur_col = col\n",
    "        match = True\n",
    "        if len(my_name) <= (cols - cur_col):\n",
    "            for char_no in range(0,len(my_name)):\n",
    "                if my_name[char_no] != table[row][cur_col]:\n",
    "                    match = False\n",
    "                    char_no = len(my_name)\n",
    "                cur_col = cur_col + 1\n",
    "            if match == True:\n",
    "                print (\"Matched\", my_name, \"at (\", row, \",\" , col, \")\" , \"col-wise\"  )\n"
   ]
  }
 ],
 "metadata": {
  "kernelspec": {
   "display_name": "Python 3",
   "language": "python",
   "name": "python3"
  },
  "language_info": {
   "codemirror_mode": {
    "name": "ipython",
    "version": 3
   },
   "file_extension": ".py",
   "mimetype": "text/x-python",
   "name": "python",
   "nbconvert_exporter": "python",
   "pygments_lexer": "ipython3",
   "version": "3.8.5"
  }
 },
 "nbformat": 4,
 "nbformat_minor": 2
}
